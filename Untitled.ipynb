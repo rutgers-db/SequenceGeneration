{
 "cells": [
  {
   "cell_type": "code",
   "execution_count": null,
   "id": "4c55e7aa-e429-4bf2-8a25-dca25f783b3a",
   "metadata": {},
   "outputs": [],
   "source": [
    "\n",
    "from transformers import GPT2LMHeadModel, GPT2Tokenizer\n",
    "import time\n",
    "\n",
    "\n",
    "returnSeqNum = 4 \n",
    "tokenizer = GPT2Tokenizer.from_pretrained(\"gpt2\")\n",
    "model = GPT2LMHeadModel.from_pretrained(\"stanford-crfm/alias-gpt2-small-x21\")\n",
    "\n",
    "#time on\n",
    "time_start=time.time()\n",
    "seqLenList =[]\n",
    "total_len = 0\n",
    "merged_sequenced=\"\"\n",
    "\n",
    "sample_output = model.generate(None, num_return_sequences=returnSeqNum, do_sample=True, min_length = 128, max_length=128)"
   ]
  },
  {
   "cell_type": "code",
   "execution_count": null,
   "id": "fbc7cea9-e41c-4176-a453-7188f2c23dec",
   "metadata": {},
   "outputs": [],
   "source": [
    "for j in range(0,returnSeqNum):\n",
    "    tmp_seq = tokenizer.decode(sample_output[j], skip_special_tokens=True)\n",
    "    with open(tmpFile, \"w\") as wFile:\n",
    "        wFile.write(tmp_seq)\n",
    "    with open(tmpFile, \"r\") as rFile:\n",
    "        tmp_seq = rFile.read()\n",
    "    total_len += len(tmp_seq)\n",
    "    tmp_len = str(len(tmp_seq)) +'\\n'\n",
    "    merged_sequenced = merged_sequenced+tmp_seq\n",
    "    seqLenList.append(tmp_len)"
   ]
  }
 ],
 "metadata": {
  "kernelspec": {
   "display_name": "Python 3",
   "language": "python",
   "name": "python3"
  },
  "language_info": {
   "codemirror_mode": {
    "name": "ipython",
    "version": 3
   },
   "file_extension": ".py",
   "mimetype": "text/x-python",
   "name": "python",
   "nbconvert_exporter": "python",
   "pygments_lexer": "ipython3",
   "version": "3.9.5"
  }
 },
 "nbformat": 4,
 "nbformat_minor": 5
}
